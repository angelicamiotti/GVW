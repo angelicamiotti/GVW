{
 "cells": [
  {
   "cell_type": "code",
   "execution_count": 25,
   "id": "84a0b555",
   "metadata": {},
   "outputs": [],
   "source": [
    "import numpy as np\n",
    "import pandas as pd\n",
    "from scipy.stats import linregress\n",
    "import matplotlib.pyplot as plt\n",
    "from matplotlib.ticker import MaxNLocator\n"
   ]
  },
  {
   "cell_type": "markdown",
   "id": "f00c3cdf",
   "metadata": {},
   "source": [
    "# Dataframe voitures vertes par pays"
   ]
  },
  {
   "cell_type": "code",
   "execution_count": 26,
   "id": "24106720",
   "metadata": {},
   "outputs": [
    {
     "data": {
      "text/html": [
       "<div>\n",
       "<style scoped>\n",
       "    .dataframe tbody tr th:only-of-type {\n",
       "        vertical-align: middle;\n",
       "    }\n",
       "\n",
       "    .dataframe tbody tr th {\n",
       "        vertical-align: top;\n",
       "    }\n",
       "\n",
       "    .dataframe thead th {\n",
       "        text-align: right;\n",
       "    }\n",
       "</style>\n",
       "<table border=\"1\" class=\"dataframe\">\n",
       "  <thead>\n",
       "    <tr style=\"text-align: right;\">\n",
       "      <th></th>\n",
       "      <th>EU Country</th>\n",
       "      <th>Powersource</th>\n",
       "      <th>Year</th>\n",
       "      <th>Sales</th>\n",
       "    </tr>\n",
       "  </thead>\n",
       "  <tbody>\n",
       "    <tr>\n",
       "      <th>0</th>\n",
       "      <td>Austria</td>\n",
       "      <td>ALL</td>\n",
       "      <td>2018</td>\n",
       "      <td>NaN</td>\n",
       "    </tr>\n",
       "    <tr>\n",
       "      <th>1</th>\n",
       "      <td>Austria</td>\n",
       "      <td>ALL</td>\n",
       "      <td>2019</td>\n",
       "      <td>329363.0</td>\n",
       "    </tr>\n",
       "    <tr>\n",
       "      <th>2</th>\n",
       "      <td>Austria</td>\n",
       "      <td>ALL</td>\n",
       "      <td>2020</td>\n",
       "      <td>248740.0</td>\n",
       "    </tr>\n",
       "    <tr>\n",
       "      <th>3</th>\n",
       "      <td>Austria</td>\n",
       "      <td>ALL</td>\n",
       "      <td>2021</td>\n",
       "      <td>239803.0</td>\n",
       "    </tr>\n",
       "    <tr>\n",
       "      <th>4</th>\n",
       "      <td>Austria</td>\n",
       "      <td>ALL</td>\n",
       "      <td>2022</td>\n",
       "      <td>215050.0</td>\n",
       "    </tr>\n",
       "    <tr>\n",
       "      <th>...</th>\n",
       "      <td>...</td>\n",
       "      <td>...</td>\n",
       "      <td>...</td>\n",
       "      <td>...</td>\n",
       "    </tr>\n",
       "    <tr>\n",
       "      <th>445</th>\n",
       "      <td>United Kingdom</td>\n",
       "      <td>PHEV</td>\n",
       "      <td>2018</td>\n",
       "      <td>44437.0</td>\n",
       "    </tr>\n",
       "    <tr>\n",
       "      <th>446</th>\n",
       "      <td>United Kingdom</td>\n",
       "      <td>PHEV</td>\n",
       "      <td>2019</td>\n",
       "      <td>34984.0</td>\n",
       "    </tr>\n",
       "    <tr>\n",
       "      <th>447</th>\n",
       "      <td>United Kingdom</td>\n",
       "      <td>PHEV</td>\n",
       "      <td>2020</td>\n",
       "      <td>66877.0</td>\n",
       "    </tr>\n",
       "    <tr>\n",
       "      <th>448</th>\n",
       "      <td>United Kingdom</td>\n",
       "      <td>PHEV</td>\n",
       "      <td>2021</td>\n",
       "      <td>114554.0</td>\n",
       "    </tr>\n",
       "    <tr>\n",
       "      <th>449</th>\n",
       "      <td>United Kingdom</td>\n",
       "      <td>PHEV</td>\n",
       "      <td>2022</td>\n",
       "      <td>101414.0</td>\n",
       "    </tr>\n",
       "  </tbody>\n",
       "</table>\n",
       "<p>450 rows × 4 columns</p>\n",
       "</div>"
      ],
      "text/plain": [
       "         EU Country Powersource  Year     Sales\n",
       "0           Austria         ALL  2018       NaN\n",
       "1           Austria         ALL  2019  329363.0\n",
       "2           Austria         ALL  2020  248740.0\n",
       "3           Austria         ALL  2021  239803.0\n",
       "4           Austria         ALL  2022  215050.0\n",
       "..              ...         ...   ...       ...\n",
       "445  United Kingdom        PHEV  2018   44437.0\n",
       "446  United Kingdom        PHEV  2019   34984.0\n",
       "447  United Kingdom        PHEV  2020   66877.0\n",
       "448  United Kingdom        PHEV  2021  114554.0\n",
       "449  United Kingdom        PHEV  2022  101414.0\n",
       "\n",
       "[450 rows x 4 columns]"
      ]
     },
     "execution_count": 26,
     "metadata": {},
     "output_type": "execute_result"
    }
   ],
   "source": [
    "\n",
    "df_voit_eur = pd.read_excel(\"C:/Users/angel/OneDrive/Franca2022/POEC-Global-knowledge/pprojeto/github/tables/flat_table_external_GVW.xlsx\", sheet_name= \"F_Sales_EUR_country_green\")\n",
    "df_voit_eur"
   ]
  },
  {
   "cell_type": "code",
   "execution_count": 27,
   "id": "bc6d33df",
   "metadata": {},
   "outputs": [
    {
     "data": {
      "text/html": [
       "<div>\n",
       "<style scoped>\n",
       "    .dataframe tbody tr th:only-of-type {\n",
       "        vertical-align: middle;\n",
       "    }\n",
       "\n",
       "    .dataframe tbody tr th {\n",
       "        vertical-align: top;\n",
       "    }\n",
       "\n",
       "    .dataframe thead th {\n",
       "        text-align: right;\n",
       "    }\n",
       "</style>\n",
       "<table border=\"1\" class=\"dataframe\">\n",
       "  <thead>\n",
       "    <tr style=\"text-align: right;\">\n",
       "      <th></th>\n",
       "      <th>EU Country</th>\n",
       "      <th>Year</th>\n",
       "      <th>BEV Percentage</th>\n",
       "    </tr>\n",
       "  </thead>\n",
       "  <tbody>\n",
       "    <tr>\n",
       "      <th>0</th>\n",
       "      <td>Austria</td>\n",
       "      <td>2018</td>\n",
       "      <td>NaN</td>\n",
       "    </tr>\n",
       "    <tr>\n",
       "      <th>1</th>\n",
       "      <td>Austria</td>\n",
       "      <td>2019</td>\n",
       "      <td>0.028118</td>\n",
       "    </tr>\n",
       "    <tr>\n",
       "      <th>2</th>\n",
       "      <td>Austria</td>\n",
       "      <td>2020</td>\n",
       "      <td>0.064268</td>\n",
       "    </tr>\n",
       "    <tr>\n",
       "      <th>3</th>\n",
       "      <td>Austria</td>\n",
       "      <td>2021</td>\n",
       "      <td>0.139198</td>\n",
       "    </tr>\n",
       "    <tr>\n",
       "      <th>4</th>\n",
       "      <td>Austria</td>\n",
       "      <td>2022</td>\n",
       "      <td>0.158935</td>\n",
       "    </tr>\n",
       "    <tr>\n",
       "      <th>...</th>\n",
       "      <td>...</td>\n",
       "      <td>...</td>\n",
       "      <td>...</td>\n",
       "    </tr>\n",
       "    <tr>\n",
       "      <th>145</th>\n",
       "      <td>United Kingdom</td>\n",
       "      <td>2018</td>\n",
       "      <td>NaN</td>\n",
       "    </tr>\n",
       "    <tr>\n",
       "      <th>146</th>\n",
       "      <td>United Kingdom</td>\n",
       "      <td>2019</td>\n",
       "      <td>0.016377</td>\n",
       "    </tr>\n",
       "    <tr>\n",
       "      <th>147</th>\n",
       "      <td>United Kingdom</td>\n",
       "      <td>2020</td>\n",
       "      <td>0.066340</td>\n",
       "    </tr>\n",
       "    <tr>\n",
       "      <th>148</th>\n",
       "      <td>United Kingdom</td>\n",
       "      <td>2021</td>\n",
       "      <td>0.115790</td>\n",
       "    </tr>\n",
       "    <tr>\n",
       "      <th>149</th>\n",
       "      <td>United Kingdom</td>\n",
       "      <td>2022</td>\n",
       "      <td>0.165547</td>\n",
       "    </tr>\n",
       "  </tbody>\n",
       "</table>\n",
       "<p>150 rows × 3 columns</p>\n",
       "</div>"
      ],
      "text/plain": [
       "         EU Country  Year  BEV Percentage\n",
       "0           Austria  2018             NaN\n",
       "1           Austria  2019        0.028118\n",
       "2           Austria  2020        0.064268\n",
       "3           Austria  2021        0.139198\n",
       "4           Austria  2022        0.158935\n",
       "..              ...   ...             ...\n",
       "145  United Kingdom  2018             NaN\n",
       "146  United Kingdom  2019        0.016377\n",
       "147  United Kingdom  2020        0.066340\n",
       "148  United Kingdom  2021        0.115790\n",
       "149  United Kingdom  2022        0.165547\n",
       "\n",
       "[150 rows x 3 columns]"
      ]
     },
     "execution_count": 27,
     "metadata": {},
     "output_type": "execute_result"
    }
   ],
   "source": [
    "df_all_eur = df_voit_eur[df_voit_eur['Powersource'] == 'ALL'].drop('Powersource', axis=1)\n",
    "df_bev_eur = df_voit_eur[df_voit_eur['Powersource'] == 'BEV'].drop('Powersource', axis=1)\n",
    "\n",
    "# Se os DataFrames não estiverem no formato longo, você terá que derretê-los como mostrado anteriormente\n",
    "# ...\n",
    "\n",
    "# Ajustando os índices para garantir que eles correspondam para a operação de divisão\n",
    "# Certifique-se de que 'Year' já é uma coluna e que você não precisa derreter o DataFrame novamente\n",
    "df_all_eur.set_index(['EU Country', 'Year'], inplace=True)\n",
    "df_bev_eur.set_index(['EU Country', 'Year'], inplace=True)\n",
    "\n",
    "# Calculando a porcentagem de BEV\n",
    "df_percentage_bev = (df_bev_eur['Sales'] / df_all_eur['Sales'])\n",
    "df_percentage_bev = df_percentage_bev.reset_index()\n",
    "df_percentage_bev.columns = ['EU Country', 'Year', 'BEV Percentage']\n",
    "\n",
    "# Exibindo o DataFrame resultante\n",
    "df_percentage_bev"
   ]
  },
  {
   "cell_type": "code",
   "execution_count": 28,
   "id": "a8bbd9ba",
   "metadata": {},
   "outputs": [
    {
     "data": {
      "text/html": [
       "<div>\n",
       "<style scoped>\n",
       "    .dataframe tbody tr th:only-of-type {\n",
       "        vertical-align: middle;\n",
       "    }\n",
       "\n",
       "    .dataframe tbody tr th {\n",
       "        vertical-align: top;\n",
       "    }\n",
       "\n",
       "    .dataframe thead th {\n",
       "        text-align: right;\n",
       "    }\n",
       "</style>\n",
       "<table border=\"1\" class=\"dataframe\">\n",
       "  <thead>\n",
       "    <tr style=\"text-align: right;\">\n",
       "      <th></th>\n",
       "      <th>EU Country</th>\n",
       "      <th>Year</th>\n",
       "      <th>PHEV Percentage</th>\n",
       "    </tr>\n",
       "  </thead>\n",
       "  <tbody>\n",
       "    <tr>\n",
       "      <th>0</th>\n",
       "      <td>Austria</td>\n",
       "      <td>2018</td>\n",
       "      <td>NaN</td>\n",
       "    </tr>\n",
       "    <tr>\n",
       "      <th>1</th>\n",
       "      <td>Austria</td>\n",
       "      <td>2019</td>\n",
       "      <td>0.006546</td>\n",
       "    </tr>\n",
       "    <tr>\n",
       "      <th>2</th>\n",
       "      <td>Austria</td>\n",
       "      <td>2020</td>\n",
       "      <td>0.030683</td>\n",
       "    </tr>\n",
       "    <tr>\n",
       "      <th>3</th>\n",
       "      <td>Austria</td>\n",
       "      <td>2021</td>\n",
       "      <td>0.060992</td>\n",
       "    </tr>\n",
       "    <tr>\n",
       "      <th>4</th>\n",
       "      <td>Austria</td>\n",
       "      <td>2022</td>\n",
       "      <td>0.061697</td>\n",
       "    </tr>\n",
       "    <tr>\n",
       "      <th>...</th>\n",
       "      <td>...</td>\n",
       "      <td>...</td>\n",
       "      <td>...</td>\n",
       "    </tr>\n",
       "    <tr>\n",
       "      <th>145</th>\n",
       "      <td>United Kingdom</td>\n",
       "      <td>2018</td>\n",
       "      <td>NaN</td>\n",
       "    </tr>\n",
       "    <tr>\n",
       "      <th>146</th>\n",
       "      <td>United Kingdom</td>\n",
       "      <td>2019</td>\n",
       "      <td>0.015137</td>\n",
       "    </tr>\n",
       "    <tr>\n",
       "      <th>147</th>\n",
       "      <td>United Kingdom</td>\n",
       "      <td>2020</td>\n",
       "      <td>0.041002</td>\n",
       "    </tr>\n",
       "    <tr>\n",
       "      <th>148</th>\n",
       "      <td>United Kingdom</td>\n",
       "      <td>2021</td>\n",
       "      <td>0.069545</td>\n",
       "    </tr>\n",
       "    <tr>\n",
       "      <th>149</th>\n",
       "      <td>United Kingdom</td>\n",
       "      <td>2022</td>\n",
       "      <td>0.062832</td>\n",
       "    </tr>\n",
       "  </tbody>\n",
       "</table>\n",
       "<p>150 rows × 3 columns</p>\n",
       "</div>"
      ],
      "text/plain": [
       "         EU Country  Year  PHEV Percentage\n",
       "0           Austria  2018              NaN\n",
       "1           Austria  2019         0.006546\n",
       "2           Austria  2020         0.030683\n",
       "3           Austria  2021         0.060992\n",
       "4           Austria  2022         0.061697\n",
       "..              ...   ...              ...\n",
       "145  United Kingdom  2018              NaN\n",
       "146  United Kingdom  2019         0.015137\n",
       "147  United Kingdom  2020         0.041002\n",
       "148  United Kingdom  2021         0.069545\n",
       "149  United Kingdom  2022         0.062832\n",
       "\n",
       "[150 rows x 3 columns]"
      ]
     },
     "execution_count": 28,
     "metadata": {},
     "output_type": "execute_result"
    }
   ],
   "source": [
    "#Création de dataframes uniquement PHEV et ALL\n",
    "\n",
    "df_phev_eur = df_voit_eur[df_voit_eur['Powersource'] == 'PHEV'].drop('Powersource', axis=1)\n",
    "df_all_eur = df_voit_eur[df_voit_eur['Powersource'] == 'ALL'].drop('Powersource', axis=1)\n",
    "\n",
    "df_all_eur.set_index(['EU Country', 'Year'], inplace=True)\n",
    "df_phev_eur.set_index(['EU Country', 'Year'], inplace=True)\n",
    "\n",
    "#Calcul de pourcentage de vehicules PHEV\n",
    "df_percentage_phev = (df_phev_eur['Sales'] / df_all_eur['Sales'])\n",
    "df_percentage_phev = df_percentage_phev.reset_index()\n",
    "df_percentage_phev.columns = ['EU Country', 'Year', 'PHEV Percentage']\n",
    "\n",
    "# Exibindo o DataFrame resultante\n",
    "df_percentage_phev"
   ]
  },
  {
   "cell_type": "markdown",
   "id": "cc094971",
   "metadata": {},
   "source": [
    "# Total bev allemagne"
   ]
  },
  {
   "cell_type": "code",
   "execution_count": 29,
   "id": "222466e7",
   "metadata": {},
   "outputs": [],
   "source": [
    "###Total bev Allemagne\n",
    "df_bev_total_germany = df_percentage_bev[df_percentage_bev['EU Country'] == 'Germany']"
   ]
  },
  {
   "cell_type": "code",
   "execution_count": 30,
   "id": "b963b7cd",
   "metadata": {},
   "outputs": [
    {
     "data": {
      "image/png": "[encoded data removed]",
      "text/plain": [
       "<Figure size 640x480 with 1 Axes>"
      ]
     },
     "metadata": {},
     "output_type": "display_data"
    },
    {
     "name": "stdout",
     "output_type": "stream",
     "text": [
      "Slope (GER): 0.05498535200439662\n",
      "R² (GER): 0.9917096097813028\n"
     ]
    }
   ],
   "source": [
    "import numpy as np\n",
    "import matplotlib.pyplot as plt\n",
    "from scipy.stats import linregress\n",
    "\n",
    "x = np.array([2019, 2020, 2021, 2022])\n",
    "y_total_ger = df_bev_total_germany.iloc[1:,2].to_numpy()   \n",
    "\n",
    "slope_total_ger, intercept_total_ger, r_value_total_ger, p_value_total_ger, std_err_total_ger = linregress(x, y_total_ger)\n",
    "\n",
    "predicted_y_total_ger = slope_total_ger * x + intercept_total_ger\n",
    "\n",
    "plt.scatter(x, y_total_ger, label='Allemagne', color='red')  \n",
    "plt.plot(x, predicted_y_total_ger, color='yellow') \n",
    "\n",
    "plt.gca().xaxis.set_major_locator(MaxNLocator(integer=True))\n",
    "\n",
    "plt.ylim(0,0.2)\n",
    "\n",
    "plt.xlabel('Année')\n",
    "plt.ylabel('Pourcentage BEV')\n",
    "plt.legend()\n",
    "plt.show()\n",
    "\n",
    "print(f\"Slope (GER): {slope_total_ger}\")\n",
    "print(f\"R² (GER): {r_value_total_ger**2}\")\n"
   ]
  },
  {
   "cell_type": "code",
   "execution_count": 31,
   "id": "7fe6c874",
   "metadata": {},
   "outputs": [
    {
     "data": {
      "text/plain": [
       "2027.7838601560663"
      ]
     },
     "execution_count": 31,
     "metadata": {},
     "output_type": "execute_result"
    }
   ],
   "source": [
    "predicted_y_total_ger = slope_total_ger * x + intercept_total_ger\n",
    "alem_cinqu = (0.5 - intercept_total_ger)/slope_total_ger \n",
    "alem_cinqu"
   ]
  },
  {
   "cell_type": "markdown",
   "id": "eff9ab71",
   "metadata": {},
   "source": [
    "# Total bev France"
   ]
  },
  {
   "cell_type": "code",
   "execution_count": 32,
   "id": "c085a4ef",
   "metadata": {},
   "outputs": [],
   "source": [
    "df_bev_total_france = df_percentage_bev[df_percentage_bev['EU Country'] == 'France']"
   ]
  },
  {
   "cell_type": "code",
   "execution_count": 33,
   "id": "946378c1",
   "metadata": {},
   "outputs": [
    {
     "data": {
      "image/png": "[encoded data removed]",
      "text/plain": [
       "<Figure size 640x480 with 1 Axes>"
      ]
     },
     "metadata": {},
     "output_type": "display_data"
    },
    {
     "name": "stdout",
     "output_type": "stream",
     "text": [
      "Pente (FRA): 0.03709960851548113\n",
      "R² (FRA): 0.9903936483633958\n",
      "-74.88044634303503\n"
     ]
    }
   ],
   "source": [
    "x = np.array([2019, 2020, 2021, 2022])\n",
    "y_total_fra = df_bev_total_france.iloc[1:,2].to_numpy()   \n",
    "\n",
    "slope_total_fra, intercept_total_fra, r_value_total_fra, p_value_total_fra, std_err_total_fra = linregress(x, y_total_fra)\n",
    "\n",
    "predicted_y_total_fra = slope_total_fra * x + intercept_total_fra\n",
    "\n",
    "#plt.text(7.8, 12.5, \"I am Adding Text To The Plot\")\n",
    "\n",
    "\n",
    "plt.scatter(x, y_total_fra, label='France', color='blue')  \n",
    "plt.plot(x, predicted_y_total_fra, color='red') \n",
    "\n",
    "plt.gca().xaxis.set_major_locator(MaxNLocator(integer=True))\n",
    "\n",
    "\n",
    "plt.ylim(0,0.2)\n",
    "\n",
    "plt.xlabel('Année')\n",
    "plt.ylabel('Pourcentage BEV')\n",
    "plt.legend()\n",
    "plt.show()\n",
    "\n",
    "\n",
    "print(f\"Pente (FRA): {slope_total_fra}\")\n",
    "print(f\"R² (FRA): {r_value_total_fra**2}\")\n",
    "print( intercept_total_fra)"
   ]
  },
  {
   "cell_type": "code",
   "execution_count": 34,
   "id": "689f84d7",
   "metadata": {},
   "outputs": [
    {
     "data": {
      "text/plain": [
       "2031.8394009893625"
      ]
     },
     "execution_count": 34,
     "metadata": {},
     "output_type": "execute_result"
    }
   ],
   "source": [
    "predicted_y_total_fra = slope_total_fra * x + intercept_total_fra\n",
    "ano_cinquenta = (0.5 - intercept_total_fra)/slope_total_fra\n",
    "ano_cinquenta"
   ]
  },
  {
   "cell_type": "code",
   "execution_count": 35,
   "id": "df0167cd",
   "metadata": {},
   "outputs": [
    {
     "data": {
      "text/plain": [
       "1.482100599025244"
      ]
     },
     "execution_count": 35,
     "metadata": {},
     "output_type": "execute_result"
    }
   ],
   "source": [
    "razaofr_ger=slope_total_ger/slope_total_fra\n",
    "razaofr_ger"
   ]
  },
  {
   "cell_type": "markdown",
   "id": "dba08d34",
   "metadata": {},
   "source": [
    "# Données de voitures vertes allemagne GVW\n",
    "\n",
    "Ventes de 2019-2022 de voitures du groupe VW en Allemagne"
   ]
  },
  {
   "cell_type": "code",
   "execution_count": 36,
   "id": "2b42914f",
   "metadata": {},
   "outputs": [
    {
     "data": {
      "text/html": [
       "<div>\n",
       "<style scoped>\n",
       "    .dataframe tbody tr th:only-of-type {\n",
       "        vertical-align: middle;\n",
       "    }\n",
       "\n",
       "    .dataframe tbody tr th {\n",
       "        vertical-align: top;\n",
       "    }\n",
       "\n",
       "    .dataframe thead th {\n",
       "        text-align: right;\n",
       "    }\n",
       "</style>\n",
       "<table border=\"1\" class=\"dataframe\">\n",
       "  <thead>\n",
       "    <tr style=\"text-align: right;\">\n",
       "      <th></th>\n",
       "      <th>Groupe</th>\n",
       "      <th>%bev</th>\n",
       "      <th>bev</th>\n",
       "      <th>Total</th>\n",
       "      <th>Year</th>\n",
       "    </tr>\n",
       "  </thead>\n",
       "  <tbody>\n",
       "    <tr>\n",
       "      <th>0</th>\n",
       "      <td>VW Group</td>\n",
       "      <td>0.009484</td>\n",
       "      <td>12453</td>\n",
       "      <td>1312987</td>\n",
       "      <td>2019</td>\n",
       "    </tr>\n",
       "    <tr>\n",
       "      <th>1</th>\n",
       "      <td>VW Group</td>\n",
       "      <td>0.060899</td>\n",
       "      <td>64652</td>\n",
       "      <td>1061627</td>\n",
       "      <td>2020</td>\n",
       "    </tr>\n",
       "    <tr>\n",
       "      <th>2</th>\n",
       "      <td>VW Group</td>\n",
       "      <td>0.117796</td>\n",
       "      <td>113005</td>\n",
       "      <td>959328</td>\n",
       "      <td>2021</td>\n",
       "    </tr>\n",
       "    <tr>\n",
       "      <th>3</th>\n",
       "      <td>VW Group</td>\n",
       "      <td>0.123670</td>\n",
       "      <td>121106</td>\n",
       "      <td>979266</td>\n",
       "      <td>2022</td>\n",
       "    </tr>\n",
       "  </tbody>\n",
       "</table>\n",
       "</div>"
      ],
      "text/plain": [
       "     Groupe      %bev     bev    Total  Year\n",
       "0  VW Group  0.009484   12453  1312987  2019\n",
       "1  VW Group  0.060899   64652  1061627  2020\n",
       "2  VW Group  0.117796  113005   959328  2021\n",
       "3  VW Group  0.123670  121106   979266  2022"
      ]
     },
     "execution_count": 36,
     "metadata": {},
     "output_type": "execute_result"
    }
   ],
   "source": [
    "#ventes groupe VW\n",
    "df_gvw_ger = pd.read_excel(\"C:/Users/angel/OneDrive/Franca2022/POEC-Global-knowledge/pprojeto/pastas_finais/08-01-2023/voitures_vertes_allemagne.xlsx\", sheet_name= \"groupe_allemagne\")\n",
    "df_gvw_ger"
   ]
  },
  {
   "cell_type": "code",
   "execution_count": 37,
   "id": "f618c9fb",
   "metadata": {},
   "outputs": [],
   "source": [
    "x = np.array([2019, 2020, 2021, 2022])\n"
   ]
  },
  {
   "cell_type": "code",
   "execution_count": 38,
   "id": "7fe61f88",
   "metadata": {},
   "outputs": [
    {
     "data": {
      "image/png": "[encoded data removed]",
      "text/plain": [
       "<Figure size 640x480 with 1 Axes>"
      ]
     },
     "metadata": {},
     "output_type": "display_data"
    },
    {
     "name": "stdout",
     "output_type": "stream",
     "text": [
      "slope GVW BEV Allemagne: 0.03994541101831099\n",
      "R-squared GVW BEV Allemagne: 0.9216613566576234\n"
     ]
    }
   ],
   "source": [
    "import matplotlib.pyplot as plt\n",
    "from scipy.stats import linregress\n",
    "\n",
    "y_bev_ger = df_gvw_ger.iloc[:,1].to_numpy() \n",
    "\n",
    "slope_bev_ger, intercept_bev_ger, r_value_bev_ger, p_value_bev_ger, std_err_bev_ger = linregress(x, y_bev_ger)\n",
    "\n",
    "predicted_y_bev_ger = slope_bev_ger * x + intercept_bev_ger\n",
    "\n",
    "plt.gca().xaxis.set_major_locator(MaxNLocator(integer=True))\n",
    "\n",
    "#plt.text(-5, 60, 'Parabola $Y = x^2$', fontsize = 22) \n",
    "\n",
    "\n",
    "# Plotando os dados e a reta de regressão para BEV Alemanha\n",
    "plt.scatter(x, y_bev_ger, label='Pourcentage GVW BEV Allemagne', color='blue')\n",
    "plt.plot(x, predicted_y_bev_ger, color='red')\n",
    "plt.xlabel('Year')\n",
    "plt.ylabel('Pourcentage GVW BEV Allemagne')\n",
    "plt.legend()\n",
    "plt.show()\n",
    "\n",
    "# Exibindo os resultados da regressão para BEV Alemanha\n",
    "print(f\"slope GVW BEV Allemagne: {slope_bev_ger}\")\n",
    "print(f\"R-squared GVW BEV Allemagne: {r_value_bev_ger**2}\")\n"
   ]
  },
  {
   "cell_type": "code",
   "execution_count": 40,
   "id": "be7e2826",
   "metadata": {},
   "outputs": [
    {
     "data": {
      "text/plain": [
       "array([[1.        , 0.96003196],\n",
       "       [0.96003196, 1.        ]])"
      ]
     },
     "execution_count": 40,
     "metadata": {},
     "output_type": "execute_result"
    }
   ],
   "source": [
    "correlation_coefficient = np.corrcoef(x, y_bev_ger)\n",
    "correlation_coefficient"
   ]
  },
  {
   "cell_type": "code",
   "execution_count": 41,
   "id": "3e6f7a60",
   "metadata": {},
   "outputs": [
    {
     "data": {
      "image/png": "[encoded data removed]",
      "text/plain": [
       "<Figure size 640x480 with 1 Axes>"
      ]
     },
     "metadata": {},
     "output_type": "display_data"
    },
    {
     "name": "stdout",
     "output_type": "stream",
     "text": [
      "BEV Alemanha - slope: 0.03994541101831099, R-squared: 0.9216613566576234\n",
      "Total Alemanha - slope: 0.05498535200439662, R-squared: 0.9917096097813028\n"
     ]
    }
   ],
   "source": [
    "import matplotlib.pyplot as plt\n",
    "from scipy.stats import linregress\n",
    "\n",
    "\n",
    "slope_bev_ger, intercept_bev_ger, r_value_bev_ger, p_value_bev_ger, std_err_bev_ger = linregress(x, y_bev_ger)\n",
    "predicted_y_bev_ger = slope_bev_ger * x + intercept_bev_ger\n",
    "\n",
    "slope_total_ger, intercept_total_ger, r_value_total_ger, p_value_total_ger, std_err_total_ger = linregress(x, y_total_ger)\n",
    "predicted_y_total_ger = slope_total_ger * x + intercept_total_ger\n",
    "\n",
    "# Plotando os dados de BEV na Alemanha\n",
    "plt.scatter(x, y_bev_ger, label='GVW', color='blue')  # Pontos azuis\n",
    "plt.plot(x, predicted_y_bev_ger, color='blue')  # Linha vermelha\n",
    "\n",
    "# Plotando os dados totais na Alemanha\n",
    "plt.scatter(x, y_total_ger, label='Allemagne', color='red')  # Pontos verdes\n",
    "plt.plot(x, predicted_y_total_ger, color='yellow')  # Linha laranja\n",
    "\n",
    "plt.gca().xaxis.set_major_locator(MaxNLocator(integer=True))\n",
    "plt.ylim(0,0.2)\n",
    "\n",
    "\n",
    "# Adicionando legendas e títulos\n",
    "plt.xlabel('Année')\n",
    "plt.ylabel('Pourcentage BEV')\n",
    "plt.legend()\n",
    "plt.show()\n",
    "\n",
    "# Exibindo os resultados da regressão para ambos os conjuntos\n",
    "print(f\"BEV Allemagne - slope: {slope_bev_ger}, R-squared: {r_value_bev_ger**2}\")\n",
    "print(f\"Total Allemagne - slope: {slope_total_ger}, R-squared: {r_value_total_ger**2}\")\n"
   ]
  },
  {
   "cell_type": "code",
   "execution_count": 42,
   "id": "e79f0cb6",
   "metadata": {},
   "outputs": [
    {
     "data": {
      "text/plain": [
       "1.376512360310708"
      ]
     },
     "execution_count": 42,
     "metadata": {},
     "output_type": "execute_result"
    }
   ],
   "source": [
    "razao=slope_total_ger/slope_bev_ger\n",
    "razao"
   ]
  },
  {
   "cell_type": "code",
   "execution_count": 43,
   "id": "f0f8f637",
   "metadata": {},
   "outputs": [
    {
     "data": {
      "text/plain": [
       "0.03994541101831099"
      ]
     },
     "execution_count": 43,
     "metadata": {},
     "output_type": "execute_result"
    }
   ],
   "source": [
    "slope_bev_ger"
   ]
  }
 ],
 "metadata": {
  "kernelspec": {
   "display_name": "Python 3 (ipykernel)",
   "language": "python",
   "name": "python3"
  },
  "language_info": {
   "codemirror_mode": {
    "name": "ipython",
    "version": 3
   },
   "file_extension": ".py",
   "mimetype": "text/x-python",
   "name": "python",
   "nbconvert_exporter": "python",
   "pygments_lexer": "ipython3",
   "version": "3.9.16"
  }
 },
 "nbformat": 4,
 "nbformat_minor": 5
}
