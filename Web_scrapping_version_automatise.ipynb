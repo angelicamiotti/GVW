{
 "cells": [
  {
   "cell_type": "markdown",
   "id": "666d52e1",
   "metadata": {
    "id": "666d52e1"
   },
   "source": [
    "# Exemple Best Selling cars\n",
    "\n",
    "### Sites\n",
    "\n",
    "##### Europe by year\n",
    "\n",
    "https://www.best-selling-cars.com/europe/2022-full-year-europe-best-selling-car-manufacturers-and-brands/\n",
    "\n",
    "##### USA 2018-2022\n",
    "https://www.best-selling-cars.com/usa-car-sales-by-brand/\n",
    "##### Germany 2017-2022\n",
    "https://www.best-selling-cars.com/germany/2022-full-year-germany-best-selling-car-models/\n",
    "\n",
    "\n",
    "##### Green cars europe sales by country 2022\n",
    "\n",
    "https://www.best-selling-cars.com/europe/2022-full-year-europe-battery-electric-and-plug-in-hybrid-car-sales-by-country/\n",
    "\n",
    "##### Japan: Best-Selling Car 2022\n",
    "https://www.best-selling-cars.com/japan/2022-full-year-japan-best-selling-car-models/\n",
    "\n",
    "\n",
    "##### Sales fuel types europe\n",
    "https://www.acea.auto/figure/fuel-types-of-new-passenger-cars-in-eu/\n"
   ]
  },
  {
   "cell_type": "code",
   "execution_count": 1,
   "id": "0bc885b0",
   "metadata": {
    "id": "0bc885b0"
   },
   "outputs": [],
   "source": [
    "import requests\n",
    "import pandas as pd\n",
    "from bs4 import BeautifulSoup"
   ]
  },
  {
   "cell_type": "code",
   "execution_count": 2,
   "id": "dcdf4ebe",
   "metadata": {
    "id": "dcdf4ebe"
   },
   "outputs": [],
   "source": [
    "##User-Agent contourne le problème d'erreur 403\n",
    "headers = {\n",
    "    'User-Agent': 'Mozilla/5.0 (Windows NT 10.0; Win64; x64) AppleWebKit/537.36 (KHTML, like Gecko) Chrome/109.0.0.0 Safari/537.36',\n",
    "}"
   ]
  },
  {
   "cell_type": "code",
   "execution_count": 3,
   "id": "47a982f1",
   "metadata": {
    "colab": {
     "base_uri": "https://localhost:8080/"
    },
    "id": "47a982f1",
    "outputId": "b9d08a74-6fe6-4f38-84a0-b95a4f41436d"
   },
   "outputs": [
    {
     "name": "stdout",
     "output_type": "stream",
     "text": [
      "200\n"
     ]
    }
   ],
   "source": [
    "url = 'https://www.best-selling-cars.com/electric/2022-full-year-germany-best-selling-electric-cars-by-brand-and-model/'\n",
    "response = requests.get(url, headers=headers)\n",
    "\n",
    "print(response.status_code) #200 c'est bon\n",
    "#transforme HTML dans une structure de données Python\n",
    "soup = BeautifulSoup(response.text, 'html.parser')  \n",
    "#soup"
   ]
  },
  {
   "cell_type": "code",
   "execution_count": 4,
   "id": "6bd59fba",
   "metadata": {
    "colab": {
     "base_uri": "https://localhost:8080/"
    },
    "id": "6bd59fba",
    "outputId": "29ebd37d-f023-4aea-8b44-90c08267c207"
   },
   "outputs": [
    {
     "data": {
      "text/plain": [
       "bs4.element.ResultSet"
      ]
     },
     "execution_count": 4,
     "metadata": {},
     "output_type": "execute_result"
    }
   ],
   "source": [
    "#selectionner la figure qui comprend le tableau\n",
    "figures = soup.find_all('figure', class_='wp-block-table')\n",
    "type(figures)"
   ]
  },
  {
   "cell_type": "code",
   "execution_count": 5,
   "id": "f8ec3d7c",
   "metadata": {},
   "outputs": [
    {
     "data": {
      "text/plain": [
       "'\\n\\n\\n2022 (Full Year) Germany: Best-Selling Electric Cars by Brand and Model - Car Sales Statistics\\n\\nSkip to content\\nMenuHomeGlobalEuropeUSAGermanyBrandsOthersJapanBritain / UKFranceChinaGreeceSwitzerlandClassic Car Auctions202320222021-2007202120202019201820172016201520142013201220112010200920082007Search 🔎Car Sales Statistics2022 (Full Year) Germany: Best-Selling Electric Cars by Brand and ModelJanuary 8, 2024January 7, 2023 by Henk BekkerIn full-year 2022, Tesla was the best-selling electric car brand in Germany with the Model Y and 3 being the favorite battery-electric cars.© Tesla Inc2022 (January to December): Tesla was Germany’s best-selling electric car brand followed by Volkswagen and Hyundai. New battery-electric vehicle registrations in Germany increased by a third to a record 470,559 cars for an 18% share of the total German new car market in 2022. The top-selling electric car models were the Tesla Model Y, Tesla Model 3, and Fiat 500.In 2022 (full year), the\\xa0German new car market\\xa0grew by 1.1% to 2,651,357 new passenger vehicle registrations, Volkswagen remained the\\xa0best-selling brand, the VW Golf the\\xa0top-selling car model, and the Tesla Model Y the favorite battery-electric car.German Car Sales Statistics — 2022: Market Overview, Brands, Models, Electric; 2021: Market, Brands, Models, Electric; 2020: Market, Brands, Models, Electric; 2019: Market, Brands, Models, ElectricNew Electric Car Sales in Germany in 2022 (Full Year)–20222021202020192018Total German Car Market2,651,3572,622,1322,917,6783,607,2583,435,778All Electric Cars Sold470,559355,961194,16363,28136,062% Share Electric Cars17.7%13.6%6.65%1.75%1.05%New electric passenger vehicle registrations in Germany in 2022 increased by 32% to 470,559 battery electric cars. Although that led to a new record 17.7% market share of the total German new car market, the growth in electric car sales was much slower than in recent years. (The total German new car market expanded by only 1.1% in 2022.) Component shortages and other supply-chain problems led to a shortage in cars — both electric and conventional — for all manufacturers. Waiting lists for new cars are several months long with many popular car models not available for well over a year.There was a sudden boom in electric (and PHEV) registrations in Germany in the final months of the year, as government incentives are changing from January 2023. PHEV will no longer receive any direct subsidies and battery-electric car subsidies are smaller and more restrictive. Given the long waiting lists many economists questioned whether any incentives should be paid at all.Although electric car sales in Germany were at an all-time high in 2022, total BEV sales were still 10,000 units less than the entire number of cars sold by Volkswagen alone.Best-Selling Electric Car Brands in Germany in 2022The 20 best-selling electric car brands in Germany in the full-year 2022 according to the KBA were:Brand20222021202020191TESLA69,96339,71416,69410,7112VOLKSWAGEN63,20672,11046,1938,2013HYUNDAI32,87726,66715,9415,0524FIAT29,91112,516––5OPEL29,29718,0106,9631236AUDI28,32214,9378,3563,5787RENAULT27,85832,70931,4779,4318MERCEDES25,18212,2784,4946969BMW23,47016,5358,7009,12710PEUGEOT15,37112,8874,00817411DACIA14,3694,045––12SEAT12,5954,6032,149113SKODA12,19416,1274,751114SMART12,19024,01916,0357,64915MINI11,74410,1404,36549616KIA11,4569,5685,9092,04217MG ROEWE8,774–––18POLESTAR6,9842,6151,015–19FORD5,7902,674––20VOLVO5,212–––21PORSCHE4,7895,2283,203672There was quite a shake-up in the rank order of the top-selling electric car brands in Germany in full-year 2022 — Peugeot at 10th was the only top-20 brand in the same position as in 2021.In 2022, Tesla was the top-selling electric car brand in Germany for the first time since 2019. Despite Volkswagen’s larger model range, VW failed to maintain its leading position from the previous two years and sold fewer electric cars in Germany in 2022 than in 2021.Hyundai improved on position while Fiat shot up to fourth from 11th. Opel improved one position and Audi three. Renault slipped from third with the Zoe — long the top-selling electric car in Germany — now firmly falling behind newer models but Renault is likely to gain ground with the new electric Megane. Mercedes entered the top-ten from 12th while BMW slipped two positions.Several early movers were at least temporarily overtaken by newer offerings. Renault sales were lower while Smart is down to 14th while waiting for a new model, which is totally out of sync with the struggling brand’s previous cars. Nissan similarly fell out of the top 20, as did Porsche with lower electric car sales than in 2021.MG Roewe, Polestar, and Volvo are all new brands in the electric top-20 list for Germany.Best-Selling Electric Car Models in Germany in 2022The 20 best-selling electric car models in Germany in the full-year 2022 according to the KBA were:BRANDMODELSALES 20221TESLAMODEL Y35,4262TESLAMODEL 333,8413FIAT50029,6354VWID.4, ID.524,8475VWID.323,2866HYUNDAIKONA17,0297OPELCORSA14,9798DACIASPRING14,3669HYUNDAIIONIQ514,08010VWUP13,23811AUDIE-TRON13,23212OPELMOKKA12,91613SEATBORN12,56414AUDIQ412,40615SKODAENYAQ12,18416MINIMINI11,74417RENAULTZOE10,53518BMWI39,85019SMARTFORTWO9,70020PEUGEOT2089,403The Tesla Model Y was the best-selling electric car model in Germany in 2022 followed by the Model 3. The Fiat 500 was the third most popular electric car model confirming that car buyers are also keen on smaller affordable cars and not only SUVs.The Volkswagen electric SUV duo (ID4 and ID5) was fourth followed by the ID3. The announcement that the ID3 production run was sold out until the third quarter of 2023 when an update will become available confirmed that the capability to deliver cars to buyers is still playing a more important role in the new vehicle registration figures than outright desirability.The Hyundai Kona was sixth followed by the Opel Corsa. The small and relatively cheap Dacia Spring is a new entry while the Hyundai Ioniq5 was the ninth most-popular electric car in Germany in 2022.The VW Up rounded out the top ten with availability (and price increase) limiting registrations.Three electric car models long at or near the top of the best-selling list in Germany but likely to be absent in the future are the Renault Zoe, which is unlikely to be replaced by a direct model, and the BMW i3 and Smart Fortwo that were both taken out of production during 2022.German Car Sales Statistics — 2022: Market Overview, Brands, Models, Electric; 2021: Market, Brands, Models, Electric; 2020: Market, Brands, Models, Electric; 2019: Market, Brands, Models, ElectricCategories Electric, Germany Tags 20222022 (Full Year) Germany: Best-Selling Car Models2022 (Full Year) Global: Hyundai Worldwide Car Sales and 2023 ForecastHome » Electric » 2022 (Full Year) Germany: Best-Selling Electric Cars by Brand and ModelRecent2023 (Full Year) Global: Volvo Worldwide Car Sales by Region and Model2023 (Full Year) Japan: Best-Selling Minicar (Kei) Brands and Models2023 (Full Year) Britain: Best-Selling Car Brands in the UK2023 (Full Year) Britain: Top-Selling Electric Car Models in the UK2023 (Full Year) Britain: Best-Selling Car Models in the UKCar Sales by CountryAsia PacificBrandsBritain UKChinaClassic CarsElectricEuropeFranceGermanyGlobalGreeceHybridInternationalJapanNewsNorwaySwedenSwitzerlandUSAStatistics by Year20232022202120202019201820172016201520142013201220112010200920082007Impressum\\xa0·\\xa0Terms of Use\\xa0·\\xa0Privacy Policy\\xa0·\\xa0Cookie Policy\\xa0·\\xa0Data Protection\\xa0·\\xa0About© 2024 Car Sales Statistics • Built with GeneratePressx\\n'"
      ]
     },
     "execution_count": 5,
     "metadata": {},
     "output_type": "execute_result"
    }
   ],
   "source": [
    "#trouve tous les tableaux\n",
    "table = soup.find_all('table')\n",
    "soup.get_text()"
   ]
  },
  {
   "cell_type": "markdown",
   "id": "22c38fb4",
   "metadata": {},
   "source": [
    "### Choisir le tableau souhaité (dans le cas de plusieurs tableaux)"
   ]
  },
  {
   "cell_type": "code",
   "execution_count": 6,
   "id": "8141286f",
   "metadata": {},
   "outputs": [
    {
     "data": {
      "text/plain": [
       "[<tbody><tr><td><td>BRAND<td>MODEL<td><a href=\"https://www.best-selling-cars.com/electric/2022-full-year-germany-best-selling-electric-cars-by-brand-and-model/\">SALES 2022</a><tr><td>1<td>TESLA<td>MODEL Y<td>35,426<tr><td>2<td>TESLA<td>MODEL 3<td>33,841<tr><td>3<td>FIAT<td>500<td>29,635<tr><td>4<td>VW<td>ID.4, ID.5<td>24,847<tr><td>5<td>VW<td>ID.3<td>23,286<tr><td>6<td>HYUNDAI<td>KONA<td>17,029<tr><td>7<td>OPEL<td>CORSA<td>14,979<tr><td>8<td>DACIA<td>SPRING<td>14,366<tr><td>9<td>HYUNDAI<td>IONIQ5<td>14,080<tr><td>10<td>VW<td>UP<td>13,238<tr><td>11<td>AUDI<td>E-TRON<td>13,232<tr><td>12<td>OPEL<td>MOKKA<td>12,916<tr><td>13<td>SEAT<td>BORN<td>12,564<tr><td>14<td>AUDI<td>Q4<td>12,406<tr><td>15<td>SKODA<td>ENYAQ<td>12,184<tr><td>16<td>MINI<td>MINI<td>11,744<tr><td>17<td>RENAULT<td>ZOE<td>10,535<tr><td>18<td>BMW<td>I3<td>9,850<tr><td>19<td>SMART<td>FORTWO<td>9,700<tr><td>20<td>PEUGEOT<td>208<td>9,403</td></td></td></td></tr></td></td></td></td></tr></td></td></td></td></tr></td></td></td></td></tr></td></td></td></td></tr></td></td></td></td></tr></td></td></td></td></tr></td></td></td></td></tr></td></td></td></td></tr></td></td></td></td></tr></td></td></td></td></tr></td></td></td></td></tr></td></td></td></td></tr></td></td></td></td></tr></td></td></td></td></tr></td></td></td></td></tr></td></td></td></td></tr></td></td></td></td></tr></td></td></td></td></tr></td></td></td></td></tr></td></td></td></td></tr></tbody>]"
      ]
     },
     "execution_count": 6,
     "metadata": {},
     "output_type": "execute_result"
    }
   ],
   "source": [
    "#le corps du tableau souhaité\n",
    "body= table[2].find_all('tbody')\n",
    "body"
   ]
  },
  {
   "cell_type": "code",
   "execution_count": 7,
   "id": "ade86d29",
   "metadata": {},
   "outputs": [],
   "source": [
    "#les lignes\n",
    "for element in body:\n",
    "    rows = element.find_all('tr')"
   ]
  },
  {
   "cell_type": "code",
   "execution_count": 8,
   "id": "197d3ef6",
   "metadata": {},
   "outputs": [],
   "source": [
    "#compter colonnes du tableau souhaité\n",
    "for d in rows:\n",
    "    colunas = d.find_all('td')\n",
    "    taille = len(colunas)"
   ]
  },
  {
   "cell_type": "code",
   "execution_count": 9,
   "id": "6c4fd77e",
   "metadata": {},
   "outputs": [
    {
     "data": {
      "text/plain": [
       "[['',\n",
       "  'BRAND',\n",
       "  'MODEL',\n",
       "  '<a href=\"https://www.best-selling-cars.com/electric/2022-full-year-germany-best-selling-electric-cars-by-brand-and-model/\">SALES 2022</a>'],\n",
       " ['1', 'TESLA', 'MODEL Y', '35,426'],\n",
       " ['2', 'TESLA', 'MODEL 3', '33,841'],\n",
       " ['3', 'FIAT', '500', '29,635'],\n",
       " ['4', 'VW', 'ID.4, ID.5', '24,847'],\n",
       " ['5', 'VW', 'ID.3', '23,286'],\n",
       " ['6', 'HYUNDAI', 'KONA', '17,029'],\n",
       " ['7', 'OPEL', 'CORSA', '14,979'],\n",
       " ['8', 'DACIA', 'SPRING', '14,366'],\n",
       " ['9', 'HYUNDAI', 'IONIQ5', '14,080'],\n",
       " ['10', 'VW', 'UP', '13,238'],\n",
       " ['11', 'AUDI', 'E-TRON', '13,232'],\n",
       " ['12', 'OPEL', 'MOKKA', '12,916'],\n",
       " ['13', 'SEAT', 'BORN', '12,564'],\n",
       " ['14', 'AUDI', 'Q4', '12,406'],\n",
       " ['15', 'SKODA', 'ENYAQ', '12,184'],\n",
       " ['16', 'MINI', 'MINI', '11,744'],\n",
       " ['17', 'RENAULT', 'ZOE', '10,535'],\n",
       " ['18', 'BMW', 'I3', '9,850'],\n",
       " ['19', 'SMART', 'FORTWO', '9,700'],\n",
       " ['20', 'PEUGEOT', '208', '9,403']]"
      ]
     },
     "execution_count": 9,
     "metadata": {},
     "output_type": "execute_result"
    }
   ],
   "source": [
    "l = []\n",
    "\n",
    "#parcourrir les lignes et les garder dans une liste\n",
    "for d in rows:\n",
    "    t=[]\n",
    "    for i in range(taille-1):\n",
    "        col_tot = d.findAll('td')[i].renderContents().decode('utf8')\n",
    "        col = col_tot.split('<td>')[0]\n",
    "        t.append(col)\n",
    "    col_fin_tot = d.findAll('td')[i+1].renderContents().decode('utf8')\n",
    "    col_fin = col_fin_tot.split('<tr>')[0]\n",
    "    t.append(col_fin)\n",
    "    l.append(t)\n",
    "l"
   ]
  },
  {
   "cell_type": "code",
   "execution_count": 10,
   "id": "05663cd2",
   "metadata": {},
   "outputs": [
    {
     "data": {
      "text/plain": [
       "['', 'BRAND', 'MODEL', 'SALES 2022']"
      ]
     },
     "execution_count": 10,
     "metadata": {},
     "output_type": "execute_result"
    }
   ],
   "source": [
    "#créer une liste pour garder l'en-tête\n",
    "header = []\n",
    "for item in l[0]:\n",
    "    soup = BeautifulSoup(item, 'html.parser')\n",
    "    header.append(soup.get_text())\n",
    "header"
   ]
  },
  {
   "cell_type": "code",
   "execution_count": 11,
   "id": "71804103",
   "metadata": {},
   "outputs": [
    {
     "data": {
      "text/plain": [
       "'MODEL'"
      ]
     },
     "execution_count": 11,
     "metadata": {},
     "output_type": "execute_result"
    }
   ],
   "source": [
    "#verification \n",
    "l[0][2]"
   ]
  },
  {
   "cell_type": "code",
   "execution_count": 12,
   "id": "43203c81",
   "metadata": {},
   "outputs": [],
   "source": [
    "#créer une liste pour garder le corps du tableau\n",
    "corps = []\n",
    "for i in range(len(l)):  \n",
    "    corps.append([])  \n",
    "    for j in range(len(l[i])):\n",
    "        item = l[i][j] \n",
    "        soup = BeautifulSoup(item, 'html.parser')\n",
    "        corps[i].append(soup.get_text()) "
   ]
  },
  {
   "cell_type": "code",
   "execution_count": 13,
   "id": "1ac57329",
   "metadata": {},
   "outputs": [
    {
     "data": {
      "text/html": [
       "<div>\n",
       "<style scoped>\n",
       "    .dataframe tbody tr th:only-of-type {\n",
       "        vertical-align: middle;\n",
       "    }\n",
       "\n",
       "    .dataframe tbody tr th {\n",
       "        vertical-align: top;\n",
       "    }\n",
       "\n",
       "    .dataframe thead th {\n",
       "        text-align: right;\n",
       "    }\n",
       "</style>\n",
       "<table border=\"1\" class=\"dataframe\">\n",
       "  <thead>\n",
       "    <tr style=\"text-align: right;\">\n",
       "      <th></th>\n",
       "      <th></th>\n",
       "      <th>BRAND</th>\n",
       "      <th>MODEL</th>\n",
       "      <th>SALES 2022</th>\n",
       "    </tr>\n",
       "  </thead>\n",
       "  <tbody>\n",
       "    <tr>\n",
       "      <th>0</th>\n",
       "      <td>1</td>\n",
       "      <td>TESLA</td>\n",
       "      <td>MODEL Y</td>\n",
       "      <td>35,426</td>\n",
       "    </tr>\n",
       "    <tr>\n",
       "      <th>1</th>\n",
       "      <td>2</td>\n",
       "      <td>TESLA</td>\n",
       "      <td>MODEL 3</td>\n",
       "      <td>33,841</td>\n",
       "    </tr>\n",
       "    <tr>\n",
       "      <th>2</th>\n",
       "      <td>3</td>\n",
       "      <td>FIAT</td>\n",
       "      <td>500</td>\n",
       "      <td>29,635</td>\n",
       "    </tr>\n",
       "    <tr>\n",
       "      <th>3</th>\n",
       "      <td>4</td>\n",
       "      <td>VW</td>\n",
       "      <td>ID.4, ID.5</td>\n",
       "      <td>24,847</td>\n",
       "    </tr>\n",
       "    <tr>\n",
       "      <th>4</th>\n",
       "      <td>5</td>\n",
       "      <td>VW</td>\n",
       "      <td>ID.3</td>\n",
       "      <td>23,286</td>\n",
       "    </tr>\n",
       "    <tr>\n",
       "      <th>5</th>\n",
       "      <td>6</td>\n",
       "      <td>HYUNDAI</td>\n",
       "      <td>KONA</td>\n",
       "      <td>17,029</td>\n",
       "    </tr>\n",
       "    <tr>\n",
       "      <th>6</th>\n",
       "      <td>7</td>\n",
       "      <td>OPEL</td>\n",
       "      <td>CORSA</td>\n",
       "      <td>14,979</td>\n",
       "    </tr>\n",
       "    <tr>\n",
       "      <th>7</th>\n",
       "      <td>8</td>\n",
       "      <td>DACIA</td>\n",
       "      <td>SPRING</td>\n",
       "      <td>14,366</td>\n",
       "    </tr>\n",
       "    <tr>\n",
       "      <th>8</th>\n",
       "      <td>9</td>\n",
       "      <td>HYUNDAI</td>\n",
       "      <td>IONIQ5</td>\n",
       "      <td>14,080</td>\n",
       "    </tr>\n",
       "    <tr>\n",
       "      <th>9</th>\n",
       "      <td>10</td>\n",
       "      <td>VW</td>\n",
       "      <td>UP</td>\n",
       "      <td>13,238</td>\n",
       "    </tr>\n",
       "    <tr>\n",
       "      <th>10</th>\n",
       "      <td>11</td>\n",
       "      <td>AUDI</td>\n",
       "      <td>E-TRON</td>\n",
       "      <td>13,232</td>\n",
       "    </tr>\n",
       "    <tr>\n",
       "      <th>11</th>\n",
       "      <td>12</td>\n",
       "      <td>OPEL</td>\n",
       "      <td>MOKKA</td>\n",
       "      <td>12,916</td>\n",
       "    </tr>\n",
       "    <tr>\n",
       "      <th>12</th>\n",
       "      <td>13</td>\n",
       "      <td>SEAT</td>\n",
       "      <td>BORN</td>\n",
       "      <td>12,564</td>\n",
       "    </tr>\n",
       "    <tr>\n",
       "      <th>13</th>\n",
       "      <td>14</td>\n",
       "      <td>AUDI</td>\n",
       "      <td>Q4</td>\n",
       "      <td>12,406</td>\n",
       "    </tr>\n",
       "    <tr>\n",
       "      <th>14</th>\n",
       "      <td>15</td>\n",
       "      <td>SKODA</td>\n",
       "      <td>ENYAQ</td>\n",
       "      <td>12,184</td>\n",
       "    </tr>\n",
       "    <tr>\n",
       "      <th>15</th>\n",
       "      <td>16</td>\n",
       "      <td>MINI</td>\n",
       "      <td>MINI</td>\n",
       "      <td>11,744</td>\n",
       "    </tr>\n",
       "    <tr>\n",
       "      <th>16</th>\n",
       "      <td>17</td>\n",
       "      <td>RENAULT</td>\n",
       "      <td>ZOE</td>\n",
       "      <td>10,535</td>\n",
       "    </tr>\n",
       "    <tr>\n",
       "      <th>17</th>\n",
       "      <td>18</td>\n",
       "      <td>BMW</td>\n",
       "      <td>I3</td>\n",
       "      <td>9,850</td>\n",
       "    </tr>\n",
       "    <tr>\n",
       "      <th>18</th>\n",
       "      <td>19</td>\n",
       "      <td>SMART</td>\n",
       "      <td>FORTWO</td>\n",
       "      <td>9,700</td>\n",
       "    </tr>\n",
       "    <tr>\n",
       "      <th>19</th>\n",
       "      <td>20</td>\n",
       "      <td>PEUGEOT</td>\n",
       "      <td>208</td>\n",
       "      <td>9,403</td>\n",
       "    </tr>\n",
       "  </tbody>\n",
       "</table>\n",
       "</div>"
      ],
      "text/plain": [
       "          BRAND       MODEL SALES 2022\n",
       "0    1    TESLA     MODEL Y     35,426\n",
       "1    2    TESLA     MODEL 3     33,841\n",
       "2    3     FIAT         500     29,635\n",
       "3    4       VW  ID.4, ID.5     24,847\n",
       "4    5       VW        ID.3     23,286\n",
       "5    6  HYUNDAI        KONA     17,029\n",
       "6    7     OPEL       CORSA     14,979\n",
       "7    8    DACIA      SPRING     14,366\n",
       "8    9  HYUNDAI      IONIQ5     14,080\n",
       "9   10       VW          UP     13,238\n",
       "10  11     AUDI      E-TRON     13,232\n",
       "11  12     OPEL       MOKKA     12,916\n",
       "12  13     SEAT        BORN     12,564\n",
       "13  14     AUDI          Q4     12,406\n",
       "14  15    SKODA       ENYAQ     12,184\n",
       "15  16     MINI        MINI     11,744\n",
       "16  17  RENAULT         ZOE     10,535\n",
       "17  18      BMW          I3      9,850\n",
       "18  19    SMART      FORTWO      9,700\n",
       "19  20  PEUGEOT         208      9,403"
      ]
     },
     "execution_count": 13,
     "metadata": {},
     "output_type": "execute_result"
    }
   ],
   "source": [
    "l1  = corps[1:]\n",
    "\n",
    "#generer dataframe\n",
    "df = pd.DataFrame(l1,columns = header)\n",
    "#df=df = df.drop(df.columns[0], axis=1)\n",
    "df"
   ]
  },
  {
   "cell_type": "code",
   "execution_count": 14,
   "id": "6d624cbf",
   "metadata": {},
   "outputs": [],
   "source": [
    "df2=df"
   ]
  },
  {
   "cell_type": "code",
   "execution_count": 16,
   "id": "934de5f8",
   "metadata": {},
   "outputs": [],
   "source": [
    "with pd.ExcelWriter(\"europa_2019-2018.xlsx\", engine=\"openpyxl\") as writer:\n",
    "    df1.to_excel(writer, sheet_name=\"Sheet_1\", index=False)\n",
    "    df2.to_excel(writer, sheet_name=\"Sheet_2\", index=False)\n",
    "    #df3.to_excel(writer, sheet_name=\"Sheet_2\", index=False)"
   ]
  },
  {
   "cell_type": "markdown",
   "id": "e323bc53",
   "metadata": {
    "id": "e323bc53"
   },
   "source": [
    "# Exemple  Volkswagen table\n"
   ]
  },
  {
   "cell_type": "code",
   "execution_count": 17,
   "id": "bcf8206d",
   "metadata": {
    "id": "bcf8206d",
    "outputId": "5c54aa22-4774-4eab-e818-12f9eb2a6b82"
   },
   "outputs": [
    {
     "name": "stdout",
     "output_type": "stream",
     "text": [
      "200\n",
      "<class 'bs4.element.Tag'>\n",
      "[<tr class=\"nohighlight row-1\">\n",
      "<td class=\"vw-ar20-5 column-1\"><p> </p></td>\n",
      "<td class=\"empty inbetween\"> </td>\n",
      "<td class=\"vw-ar20-6 column-2 textAlign-right\"><p> </p></td>\n",
      "<td class=\"empty inbetween\"> </td>\n",
      "<td class=\"vw-ar20-5 column-last textAlign-right\"><p> </p></td>\n",
      "</tr>, <tr class=\"row-2\">\n",
      "<th class=\"vw-ar20-7 column-1 textAlign-left\" scope=\"row\"><p>Leon</p></th>\n",
      "<td class=\"empty inbetween\"> </td>\n",
      "<td class=\"vw-ar20-7 column-2 textAlign-right\"><p>124,323</p></td>\n",
      "<td class=\"empty inbetween\"> </td>\n",
      "<td class=\"vw-ar20-7 column-last textAlign-right\"><p>153,837</p></td>\n",
      "</tr>, <tr class=\"row-3\">\n",
      "<th class=\"vw-ar20-7 column-1 textAlign-left\" scope=\"row\"><p>Arona</p></th>\n",
      "<td class=\"empty inbetween\"> </td>\n",
      "<td class=\"vw-ar20-7 column-2 textAlign-right\"><p>78,823</p></td>\n",
      "<td class=\"empty inbetween\"> </td>\n",
      "<td class=\"vw-ar20-7 column-last textAlign-right\"><p>134,611</p></td>\n",
      "</tr>, <tr class=\"row-4\">\n",
      "<th class=\"vw-ar20-7 column-1 textAlign-left\" scope=\"row\"><p>Ateca</p></th>\n",
      "<td class=\"empty inbetween\"> </td>\n",
      "<td class=\"vw-ar20-7 column-2 textAlign-right\"><p>76,710</p></td>\n",
      "<td class=\"empty inbetween\"> </td>\n",
      "<td class=\"vw-ar20-7 column-last textAlign-right\"><p>98,397</p></td>\n",
      "</tr>, <tr class=\"row-5\">\n",
      "<th class=\"vw-ar20-7 column-1 textAlign-left\" scope=\"row\"><p>Ibiza</p></th>\n",
      "<td class=\"empty inbetween\"> </td>\n",
      "<td class=\"vw-ar20-7 column-2 textAlign-right\"><p>74,564</p></td>\n",
      "<td class=\"empty inbetween\"> </td>\n",
      "<td class=\"vw-ar20-7 column-last textAlign-right\"><p>130,243</p></td>\n",
      "</tr>, <tr class=\"row-6\">\n",
      "<th class=\"vw-ar20-7 column-1 textAlign-left\" scope=\"row\"><p>Tarraco</p></th>\n",
      "<td class=\"empty inbetween\"> </td>\n",
      "<td class=\"vw-ar20-7 column-2 textAlign-right\"><p>18,726</p></td>\n",
      "<td class=\"empty inbetween\"> </td>\n",
      "<td class=\"vw-ar20-7 column-last textAlign-right\"><p>38,721</p></td>\n",
      "</tr>, <tr class=\"row-7\">\n",
      "<th class=\"vw-ar20-7 column-1 textAlign-left\" scope=\"row\"><p>Alhambra</p></th>\n",
      "<td class=\"empty inbetween\"> </td>\n",
      "<td class=\"vw-ar20-7 column-2 textAlign-right\"><p>14,672</p></td>\n",
      "<td class=\"empty inbetween\"> </td>\n",
      "<td class=\"vw-ar20-7 column-last textAlign-right\"><p>23,015</p></td>\n",
      "</tr>, <tr class=\"row-8\">\n",
      "<th class=\"vw-ar20-7 column-1 textAlign-left\" scope=\"row\"><p>CUPRA Formentor</p></th>\n",
      "<td class=\"empty inbetween\"> </td>\n",
      "<td class=\"vw-ar20-7 column-2 textAlign-right\"><p>11,041</p></td>\n",
      "<td class=\"empty inbetween\"> </td>\n",
      "<td class=\"vw-ar20-7 column-last textAlign-right\"><p>–</p></td>\n",
      "</tr>, <tr class=\"row-9\">\n",
      "<th class=\"vw-ar20-7 column-1 textAlign-left\" scope=\"row\"><p>Mii</p></th>\n",
      "<td class=\"empty inbetween\"> </td>\n",
      "<td class=\"vw-ar20-7 column-2 textAlign-right\"><p>7,593</p></td>\n",
      "<td class=\"empty inbetween\"> </td>\n",
      "<td class=\"vw-ar20-7 column-last textAlign-right\"><p>11,479</p></td>\n",
      "</tr>, <tr class=\"row-10\">\n",
      "<th class=\"vw-ar20-7 column-1 textAlign-left\" scope=\"row\"><p>Toledo</p></th>\n",
      "<td class=\"empty inbetween\"> </td>\n",
      "<td class=\"vw-ar20-7 column-2 textAlign-right\"><p>–</p></td>\n",
      "<td class=\"empty inbetween\"> </td>\n",
      "<td class=\"vw-ar20-7 column-last textAlign-right\"><p>1,506</p></td>\n",
      "</tr>, <tr class=\"row-11\">\n",
      "<td class=\"vw-ar20-7 column-1\"><p> </p></td>\n",
      "<td class=\"empty inbetween\"> </td>\n",
      "<td class=\"vw-ar20-7 column-2 textAlign-right\"><p><strong>406,452</strong></p></td>\n",
      "<td class=\"empty inbetween\"> </td>\n",
      "<td class=\"vw-ar20-7 column-last textAlign-right\"><p><strong>591,809</strong></p></td>\n",
      "</tr>]\n",
      "['Units', '2020', '2019']\n"
     ]
    }
   ],
   "source": [
    "import requests\n",
    "import pandas as pd\n",
    "from bs4 import BeautifulSoup\n",
    "url = 'https://annualreport2020.volkswagenag.com/divisions/seat.html'\n",
    "response = requests.get(url)\n",
    "\n",
    "print(response.status_code) #200 c'est bon\n",
    "soup = BeautifulSoup(response.text, 'html.parser')\n",
    "soup\n",
    "\n",
    "#selectionner le tableau\n",
    "table = soup.find('table', id = \"gebertable16\")\n",
    "print(type(table))\n",
    "\n",
    "#Recuperer lignes du tableau\n",
    "\n",
    "for donnees in table.find_all('tbody'):\n",
    "    rows = donnees.find_all('tr')\n",
    "print(rows)\n",
    "\n",
    "rows[2]\n",
    "\n",
    "#Nom des colonnes\n",
    "title_cols =[]\n",
    "for title in table.find_all('thead'):\n",
    "    title_cols_dirty = title.find_all('p')\n",
    "    for p in title_cols_dirty:\n",
    "        title_cols.append(p.get_text(strip=True))\n",
    "\n",
    "title_cols=title_cols[1:]\n",
    "print(title_cols)\n",
    "\n",
    "#Transformer dataframe\n",
    "l = []\n",
    "\n",
    "for d in rows:\n",
    "    units = d.findAll('p')[0].renderContents().decode('utf8')\n",
    "    annee1 = d.findAll('p')[1].renderContents().decode('utf8')\n",
    "    annee2 = d.findAll('p')[2].renderContents().decode('utf8')\n",
    "    #print\n",
    "    t=(units,annee1,annee2)\n",
    "    l.append(t)"
   ]
  },
  {
   "cell_type": "code",
   "execution_count": 18,
   "id": "09aa4a0e",
   "metadata": {
    "id": "09aa4a0e",
    "outputId": "9fce3310-307b-43be-c8ea-32d267fcf05f"
   },
   "outputs": [
    {
     "data": {
      "text/html": [
       "<div>\n",
       "<style scoped>\n",
       "    .dataframe tbody tr th:only-of-type {\n",
       "        vertical-align: middle;\n",
       "    }\n",
       "\n",
       "    .dataframe tbody tr th {\n",
       "        vertical-align: top;\n",
       "    }\n",
       "\n",
       "    .dataframe thead th {\n",
       "        text-align: right;\n",
       "    }\n",
       "</style>\n",
       "<table border=\"1\" class=\"dataframe\">\n",
       "  <thead>\n",
       "    <tr style=\"text-align: right;\">\n",
       "      <th></th>\n",
       "      <th>Units</th>\n",
       "      <th>2020</th>\n",
       "      <th>2019</th>\n",
       "    </tr>\n",
       "  </thead>\n",
       "  <tbody>\n",
       "    <tr>\n",
       "      <th>0</th>\n",
       "      <td></td>\n",
       "      <td></td>\n",
       "      <td></td>\n",
       "    </tr>\n",
       "    <tr>\n",
       "      <th>1</th>\n",
       "      <td>Leon</td>\n",
       "      <td>124,323</td>\n",
       "      <td>153,837</td>\n",
       "    </tr>\n",
       "    <tr>\n",
       "      <th>2</th>\n",
       "      <td>Arona</td>\n",
       "      <td>78,823</td>\n",
       "      <td>134,611</td>\n",
       "    </tr>\n",
       "    <tr>\n",
       "      <th>3</th>\n",
       "      <td>Ateca</td>\n",
       "      <td>76,710</td>\n",
       "      <td>98,397</td>\n",
       "    </tr>\n",
       "    <tr>\n",
       "      <th>4</th>\n",
       "      <td>Ibiza</td>\n",
       "      <td>74,564</td>\n",
       "      <td>130,243</td>\n",
       "    </tr>\n",
       "    <tr>\n",
       "      <th>5</th>\n",
       "      <td>Tarraco</td>\n",
       "      <td>18,726</td>\n",
       "      <td>38,721</td>\n",
       "    </tr>\n",
       "    <tr>\n",
       "      <th>6</th>\n",
       "      <td>Alhambra</td>\n",
       "      <td>14,672</td>\n",
       "      <td>23,015</td>\n",
       "    </tr>\n",
       "    <tr>\n",
       "      <th>7</th>\n",
       "      <td>CUPRA Formentor</td>\n",
       "      <td>11,041</td>\n",
       "      <td>–</td>\n",
       "    </tr>\n",
       "    <tr>\n",
       "      <th>8</th>\n",
       "      <td>Mii</td>\n",
       "      <td>7,593</td>\n",
       "      <td>11,479</td>\n",
       "    </tr>\n",
       "    <tr>\n",
       "      <th>9</th>\n",
       "      <td>Toledo</td>\n",
       "      <td>–</td>\n",
       "      <td>1,506</td>\n",
       "    </tr>\n",
       "    <tr>\n",
       "      <th>10</th>\n",
       "      <td></td>\n",
       "      <td>&lt;strong&gt;406,452&lt;/strong&gt;</td>\n",
       "      <td>&lt;strong&gt;591,809&lt;/strong&gt;</td>\n",
       "    </tr>\n",
       "  </tbody>\n",
       "</table>\n",
       "</div>"
      ],
      "text/plain": [
       "              Units                      2020                      2019\n",
       "0                                                                      \n",
       "1              Leon                   124,323                   153,837\n",
       "2             Arona                    78,823                   134,611\n",
       "3             Ateca                    76,710                    98,397\n",
       "4             Ibiza                    74,564                   130,243\n",
       "5           Tarraco                    18,726                    38,721\n",
       "6          Alhambra                    14,672                    23,015\n",
       "7   CUPRA Formentor                    11,041                         –\n",
       "8               Mii                     7,593                    11,479\n",
       "9            Toledo                         –                     1,506\n",
       "10                   <strong>406,452</strong>  <strong>591,809</strong>"
      ]
     },
     "execution_count": 18,
     "metadata": {},
     "output_type": "execute_result"
    }
   ],
   "source": [
    "df = pd.DataFrame(l,columns = title_cols)\n",
    "df"
   ]
  }
 ],
 "metadata": {
  "colab": {
   "provenance": []
  },
  "kernelspec": {
   "display_name": "Python 3 (ipykernel)",
   "language": "python",
   "name": "python3"
  },
  "language_info": {
   "codemirror_mode": {
    "name": "ipython",
    "version": 3
   },
   "file_extension": ".py",
   "mimetype": "text/x-python",
   "name": "python",
   "nbconvert_exporter": "python",
   "pygments_lexer": "ipython3",
   "version": "3.9.16"
  }
 },
 "nbformat": 4,
 "nbformat_minor": 5
}
